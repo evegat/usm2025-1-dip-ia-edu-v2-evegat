{
  "nbformat": 4,
  "nbformat_minor": 0,
  "metadata": {
    "colab": {
      "provenance": [],
      "toc_visible": true,
      "mount_file_id": "1hSOZJF1hWDnstUjJ5bie-xPj64c87fvA",
      "authorship_tag": "ABX9TyPh99J9M8T8b//NCi2g0/B9",
      "include_colab_link": true
    },
    "kernelspec": {
      "name": "python3",
      "display_name": "Python 3"
    },
    "language_info": {
      "name": "python"
    }
  },
  "cells": [
    {
      "cell_type": "markdown",
      "metadata": {
        "id": "view-in-github",
        "colab_type": "text"
      },
      "source": [
        "<a href=\"https://colab.research.google.com/github/evegat/usm2025-1-dip-ia-edu-v2-evegat/blob/main/Proyecto/03analisis.ipynb\" target=\"_parent\"><img src=\"https://colab.research.google.com/assets/colab-badge.svg\" alt=\"Open In Colab\"/></a>"
      ]
    },
    {
      "cell_type": "markdown",
      "source": [
        "# HITO 1: Carga de Dataset y Lectura de columnas\n"
      ],
      "metadata": {
        "id": "ubXdm1Cz_JLa"
      }
    },
    {
      "cell_type": "markdown",
      "source": [
        "Este notebook tiene como objetivo explorar el archivo `01database.csv.gz`, el cual contiene datos de matrícula en educación superior en Chile. Se utilizará para entender las variables disponibles y preparar su uso en un modelo predictivo relacionado con la elección de carreras de pedagogía.\n"
      ],
      "metadata": {
        "id": "tGknJiya_J8h"
      }
    },
    {
      "cell_type": "code",
      "source": [
        "#Importamos librerias a utilizar\n",
        "import pandas as pd"
      ],
      "metadata": {
        "id": "oQiaNWes_L-b"
      },
      "execution_count": 12,
      "outputs": []
    },
    {
      "cell_type": "code",
      "source": [
        "# Cargar archivo comprimido desde GitHub\n",
        "url = 'https://github.com/evegat/usm2025-1-dip-ia-edu-v2-evegat/raw/main/Proyecto/01database.csv.gz'\n",
        "df = pd.read_csv(url, compression='gzip')"
      ],
      "metadata": {
        "id": "SBADv23c_eBR"
      },
      "execution_count": 13,
      "outputs": []
    },
    {
      "cell_type": "markdown",
      "source": [
        "A continuación se visualizan las dimensiones del dataset (número de filas y columnas), así como los nombres de las variables, su tipo de dato, cantidad de valores únicos por variable y posibles valores representativos. Mencionar que el dataset original era con tres veces mas columnas, y la data anual es de aprox. 1.2 millones de registros incluyendo otras matriculas de educacion superior. El procesamiento para que la data pudiera ser subida a github fue procesada y tomada una muestra al 80% estratificada. No se incluye este procesamiento puesto que fue realizado para generar el sample que se considera cono database inicial para este proyecto.\n"
      ],
      "metadata": {
        "id": "7oPI0B7__hW3"
      }
    },
    {
      "cell_type": "code",
      "source": [
        "# Dimensiones generales\n",
        "print(f\" Filas: {df.shape[0]:,} — Columnas: {df.shape[1]}\")\n",
        "\n",
        "# Tipos de datos\n",
        "print(\"\\n Tipos de datos por columna:\")\n",
        "print(df.dtypes)\n",
        "\n",
        "# Valores únicos por variable\n",
        "print(\"\\n Cantidad de valores únicos por columna:\")\n",
        "print(df.nunique())\n",
        "\n",
        "# Vista rápida de nombres de columnas\n",
        "print(\"\\n Columnas:\")\n",
        "print(df.columns.tolist())\n"
      ],
      "metadata": {
        "colab": {
          "base_uri": "https://localhost:8080/"
        },
        "id": "eVVMbxGQ_mYX",
        "outputId": "d1e7fefe-1e15-4633-c52d-b27dc477fe5c"
      },
      "execution_count": 17,
      "outputs": [
        {
          "output_type": "stream",
          "name": "stdout",
          "text": [
            " Filas: 1,521,923 — Columnas: 17\n",
            "\n",
            " Tipos de datos por columna:\n",
            "cat_periodo            int64\n",
            "gen_alu                int64\n",
            "rango_edad            object\n",
            "anio_ing_carr_act      int64\n",
            "tipo_inst_1           object\n",
            "modalidad             object\n",
            "jornada               object\n",
            "region_sede           object\n",
            "nivel_carrera_1       object\n",
            "requisito_ingreso     object\n",
            "valor_matricula      float64\n",
            "valor_arancel        float64\n",
            "acreditada_carr       object\n",
            "acreditada_inst       object\n",
            "forma_ingreso         object\n",
            "AGNO_ORIGEN            int64\n",
            "nomb_carrera          object\n",
            "dtype: object\n",
            "\n",
            " Cantidad de valores únicos por columna:\n",
            "cat_periodo             2\n",
            "gen_alu                 2\n",
            "rango_edad              7\n",
            "anio_ing_carr_act      38\n",
            "tipo_inst_1             2\n",
            "modalidad               3\n",
            "jornada                 5\n",
            "region_sede            16\n",
            "nivel_carrera_1         4\n",
            "requisito_ingreso       7\n",
            "valor_matricula       598\n",
            "valor_arancel        3553\n",
            "acreditada_carr         2\n",
            "acreditada_inst         2\n",
            "forma_ingreso          11\n",
            "AGNO_ORIGEN             2\n",
            "nomb_carrera         1290\n",
            "dtype: int64\n",
            "\n",
            " Columnas:\n",
            "['cat_periodo', 'gen_alu', 'rango_edad', 'anio_ing_carr_act', 'tipo_inst_1', 'modalidad', 'jornada', 'region_sede', 'nivel_carrera_1', 'requisito_ingreso', 'valor_matricula', 'valor_arancel', 'acreditada_carr', 'acreditada_inst', 'forma_ingreso', 'AGNO_ORIGEN', 'nomb_carrera']\n"
          ]
        }
      ]
    },
    {
      "cell_type": "markdown",
      "source": [
        "Las siguientes variables fueron seleccionadas por su relevancia para el análisis de elección de carrera:\n",
        "\n",
        "- **gen_alu**: Género del estudiante (1: Hombre, 2: Mujer). Tipo: numérico entero.\n",
        "- **rango_edad**: Grupo etario del estudiante (ej. \"20 a 24 años\", \"25 a 29 años\"). Tipo: categórica.\n",
        "- **region_sede**: Región donde se ubica la sede (ej. \"Metropolitana\", \"Valparaíso\"). Tipo: categórica.\n",
        "- **tipo_inst_1**: Tipo principal de institución (ej. \"Universidad\", \"Instituto Profesional\"). Tipo: categórica.\n",
        "- **modalidad**: Modalidad de estudio (ej. \"Presencial\", \"Online\"). Tipo: categórica.\n",
        "- **jornada**: Jornada de estudio (ej. \"Diurna\", \"Vespertina\"). Tipo: categórica.\n",
        "- **nivel_carrera_1**: Nivel del programa (ej. \"Profesional\", \"Técnico\"). Tipo: categórica.\n",
        "- **requisito_ingreso**: Requisitos de ingreso (ej. \"Licencia Media\", \"PSU\", \"PDT + NEM\"). Tipo: categórica.\n",
        "- **valor_matricula**: Valor anual de la matrícula en pesos chilenos. Tipo: numérico.\n",
        "- **valor_arancel**: Arancel total anual de la carrera. Tipo: numérico.\n",
        "- **acreditada_carr**: Indica si la carrera está acreditada (\"Sí\", \"No\"). Tipo: categórica.\n",
        "- **forma_ingreso**: Mecanismo de ingreso (ej. \"Ingreso Directo\", \"PACE\"). Tipo: categórica.\n",
        "- **nomb_carrera**: Nombre completo de la carrera. Tipo: texto libre.\n"
      ],
      "metadata": {
        "id": "E-x5CuwR_nZO"
      }
    },
    {
      "cell_type": "markdown",
      "source": [
        "A continuación, se muestran los valores más frecuentes o típicos de las variables categóricas seleccionadas. Esto permite entender mejor su distribución y relevancia para un modelo predictivo.\n"
      ],
      "metadata": {
        "id": "PeT7Wob7_p_0"
      }
    },
    {
      "cell_type": "code",
      "source": [
        "# Columnas categóricas a analizar\n",
        "columnas_interes = [\n",
        "    'gen_alu', 'rango_edad', 'region_sede', 'tipo_inst_1',\n",
        "    'modalidad', 'jornada', 'nivel_carrera_1', 'requisito_ingreso',\n",
        "    'acreditada_carr', 'forma_ingreso', 'nomb_carrera'\n",
        "]\n",
        "\n",
        "# Mostrar valores únicos más frecuentes por columna\n",
        "for col in columnas_interes:\n",
        "    print(f\"\\n {col} ({df[col].dtype}):\")\n",
        "    print(df[col].value_counts().head(5))\n"
      ],
      "metadata": {
        "colab": {
          "base_uri": "https://localhost:8080/"
        },
        "id": "0xSzVgWS_rNB",
        "outputId": "5a5cf1e9-f8b9-47e5-e3ed-7c086dbf73a5"
      },
      "execution_count": 18,
      "outputs": [
        {
          "output_type": "stream",
          "name": "stdout",
          "text": [
            "\n",
            " gen_alu (int64):\n",
            "gen_alu\n",
            "2    794836\n",
            "1    727087\n",
            "Name: count, dtype: int64\n",
            "\n",
            " rango_edad (object):\n",
            "rango_edad\n",
            "20 a 24 años     778008\n",
            "15 a 19 años     287789\n",
            "25 a 29 años     215646\n",
            "30 a 34 años      97793\n",
            "40 y más años     79219\n",
            "Name: count, dtype: int64\n",
            "\n",
            " region_sede (object):\n",
            "region_sede\n",
            "Metropolitana    784594\n",
            "Biobío           155924\n",
            "Valparaíso       153415\n",
            "La Araucanía      70620\n",
            "Maule             66189\n",
            "Name: count, dtype: int64\n",
            "\n",
            " tipo_inst_1 (object):\n",
            "tipo_inst_1\n",
            "Universidades               1100403\n",
            "Institutos Profesionales     421520\n",
            "Name: count, dtype: int64\n",
            "\n",
            " modalidad (object):\n",
            "modalidad\n",
            "Presencial        1365963\n",
            "No Presencial      141772\n",
            "Semipresencial      14188\n",
            "Name: count, dtype: int64\n",
            "\n",
            " jornada (object):\n",
            "jornada\n",
            "Diurno            1171715\n",
            "Vespertino         192603\n",
            "A Distancia        141772\n",
            "Semipresencial      11783\n",
            "Otro                 4050\n",
            "Name: count, dtype: int64\n",
            "\n",
            " nivel_carrera_1 (object):\n",
            "nivel_carrera_1\n",
            "Profesional Con Licenciatura                1037129\n",
            "Profesional Sin Licenciatura                 439250\n",
            "Bachillerato, Ciclo Inicial o Plan Común      25588\n",
            "Licenciatura No Conducente a Título           19956\n",
            "Name: count, dtype: int64\n",
            "\n",
            " requisito_ingreso (object):\n",
            "requisito_ingreso\n",
            "Educación Media              1415930\n",
            "Técnico de Nivel Superior      58396\n",
            "Título Profesional             19383\n",
            "Plan Común                     15682\n",
            "Bachillerato                    8752\n",
            "Name: count, dtype: int64\n",
            "\n",
            " acreditada_carr (object):\n",
            "acreditada_carr\n",
            "NO ACREDITADA    1223551\n",
            "ACREDITADA        298372\n",
            "Name: count, dtype: int64\n",
            "\n",
            " forma_ingreso (object):\n",
            "forma_ingreso\n",
            "1- Ingreso Directo (regular)                                   1194006\n",
            "10- Otras formas de Ingreso                                      61325\n",
            "5- Ingreso por Reconocimiento de Aprendizajes Previos (RAP)      49958\n",
            "11- Articulación de TNS a carrera profesional                    49070\n",
            "3- Cambio Interno                                                48856\n",
            "Name: count, dtype: int64\n",
            "\n",
            " nomb_carrera (object):\n",
            "nomb_carrera\n",
            "PSICOLOGIA                     80503\n",
            "DERECHO                        75501\n",
            "INGENIERIA COMERCIAL           68947\n",
            "ENFERMERIA                     58251\n",
            "INGENIERIA CIVIL INDUSTRIAL    49817\n",
            "Name: count, dtype: int64\n"
          ]
        }
      ]
    }
  ]
}