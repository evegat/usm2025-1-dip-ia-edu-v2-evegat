{
  "nbformat": 4,
  "nbformat_minor": 0,
  "metadata": {
    "colab": {
      "provenance": [],
      "mount_file_id": "1hSOZJF1hWDnstUjJ5bie-xPj64c87fvA",
      "authorship_tag": "ABX9TyOmhcE4YQx/No2z/usa520U",
      "include_colab_link": true
    },
    "kernelspec": {
      "name": "python3",
      "display_name": "Python 3"
    },
    "language_info": {
      "name": "python"
    }
  },
  "cells": [
    {
      "cell_type": "markdown",
      "metadata": {
        "id": "view-in-github",
        "colab_type": "text"
      },
      "source": [
        "<a href=\"https://colab.research.google.com/github/evegat/usm2025-1-dip-ia-edu-v2-evegat/blob/main/Proyecto/02database.ipynb\" target=\"_parent\"><img src=\"https://colab.research.google.com/assets/colab-badge.svg\" alt=\"Open In Colab\"/></a>"
      ]
    },
    {
      "cell_type": "markdown",
      "source": [
        "# Análisis Exploratorio del Dataset `01database.csv.gz`\n",
        "*la extensión gz es un modo compresión para evitar borrar data*\n",
        "\n",
        "Este notebook forma parte de la entrega del módulo de procesamiento de datos. Su objetivo es:\n",
        "\n",
        "- Cargar el dataset limpio.\n",
        "- Explorar su estructura.\n",
        "- Documentar cada columna con su definición, tipo de datos y valores típicos.\n",
        "\n",
        "**Fuente de datos**: Muestra reducida y filtrada del Registro de Matrículas de Educación Superior (MINEDUC).\n"
      ],
      "metadata": {
        "id": "LFoCaxgtDxme"
      }
    },
    {
      "cell_type": "code",
      "source": [],
      "metadata": {
        "id": "atDoYmFbEK3k"
      },
      "execution_count": null,
      "outputs": []
    }
  ]
}