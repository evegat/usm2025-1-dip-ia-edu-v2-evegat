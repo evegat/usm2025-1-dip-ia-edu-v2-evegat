{
  "nbformat": 4,
  "nbformat_minor": 0,
  "metadata": {
    "colab": {
      "provenance": [],
      "mount_file_id": "1hSOZJF1hWDnstUjJ5bie-xPj64c87fvA",
      "authorship_tag": "ABX9TyN3BpKLi1XJUmyFwI1vqIqK",
      "include_colab_link": true
    },
    "kernelspec": {
      "name": "python3",
      "display_name": "Python 3"
    },
    "language_info": {
      "name": "python"
    }
  },
  "cells": [
    {
      "cell_type": "markdown",
      "metadata": {
        "id": "view-in-github",
        "colab_type": "text"
      },
      "source": [
        "<a href=\"https://colab.research.google.com/github/evegat/usm2025-1-dip-ia-edu-v2-evegat/blob/main/Proyecto/04preprocesamiento.ipynb\" target=\"_parent\"><img src=\"https://colab.research.google.com/assets/colab-badge.svg\" alt=\"Open In Colab\"/></a>"
      ]
    },
    {
      "cell_type": "markdown",
      "source": [
        "# Hito 2: Análisis, preprocesamiento y exploración del dataset\n"
      ],
      "metadata": {
        "id": "NM-AncQLFdYJ"
      }
    },
    {
      "cell_type": "markdown",
      "source": [
        "# **Preprocesamiento**\n",
        "En este notebook realizamos la transformación y limpieza del dataset antes del modelado. Se revisan duplicados, valores faltantes, tipos de datos, codificación de variables categóricas y normalización de variables numéricas. El resultado final será un conjunto de datos depurado y listo para su análisis predictivo.\n"
      ],
      "metadata": {
        "id": "Vqs-mmlGKPPp"
      }
    },
    {
      "cell_type": "code",
      "source": [
        "import pandas as pd\n",
        "from sklearn.preprocessing import LabelEncoder, MinMaxScaler\n",
        "\n",
        "# Cargar dataset desde GitHub\n",
        "url = 'https://github.com/evegat/usm2025-1-dip-ia-edu-v2-evegat/raw/main/Proyecto/01database.csv.gz'\n",
        "df = pd.read_csv(url, compression='gzip')\n",
        "\n",
        "print(f\" Dataset cargado: {df.shape[0]:,} filas, {df.shape[1]} columnas\")\n"
      ],
      "metadata": {
        "id": "XwIBzLEJKdPS"
      },
      "execution_count": null,
      "outputs": []
    },
    {
      "cell_type": "markdown",
      "source": [
        "## Eliminación de duplicados\n",
        "\n",
        "Revisamos si hay registros repetidos para garantizar que cada fila represente una observación única.\n"
      ],
      "metadata": {
        "id": "CNkgl73mKeey"
      }
    },
    {
      "cell_type": "code",
      "source": [
        "duplicados = df.duplicated().sum()\n",
        "print(f\"Cantidad de filas duplicadas: {duplicados}\")\n",
        "df.drop_duplicates(inplace=True)\n"
      ],
      "metadata": {
        "id": "DfBnrasYKgrU"
      },
      "execution_count": null,
      "outputs": []
    },
    {
      "cell_type": "markdown",
      "source": [
        "## Revisión y tratamiento de valores faltantes\n",
        "\n",
        "Identificamos columnas con datos faltantes y eliminamos las filas incompletas.\n"
      ],
      "metadata": {
        "id": "sEpHLQTmKiIu"
      }
    },
    {
      "cell_type": "code",
      "source": [
        "print(\"Valores nulos por columna:\")\n",
        "print(df.isnull().sum())\n",
        "\n",
        "print(\"\\nPorcentaje de valores nulos:\")\n",
        "print((df.isnull().sum() * 100 / len(df)).round(2))\n"
      ],
      "metadata": {
        "id": "a24U7-LnKjbQ"
      },
      "execution_count": null,
      "outputs": []
    },
    {
      "cell_type": "code",
      "source": [
        "df = df.dropna()\n",
        "print(f\"\\n Filas restantes después de eliminar nulos: {df.shape[0]:,}\")\n"
      ],
      "metadata": {
        "id": "DQLJxh7bKk7G"
      },
      "execution_count": null,
      "outputs": []
    },
    {
      "cell_type": "markdown",
      "source": [
        "## Codificación de variables categóricas\n",
        "\n",
        "Las variables categóricas deben ser transformadas en valores numéricos para su uso en modelos predictivos.\n"
      ],
      "metadata": {
        "id": "ZX3S9ZYrKmFL"
      }
    },
    {
      "cell_type": "code",
      "source": [
        "# Convertir a texto\n",
        "df['region_sede'] = df['region_sede'].astype(str)\n",
        "\n",
        "# Aplicar codificador\n",
        "le = LabelEncoder()\n",
        "df['region_sede_cod'] = le.fit_transform(df['region_sede'])\n",
        "\n",
        "# Mostrar mapeo\n",
        "print(\"Codificación de regiones:\")\n",
        "print(\"\\n\".join([f\"{i}: {cat}\" for i, cat in enumerate(le.classes_)]))\n"
      ],
      "metadata": {
        "id": "pyLo5aXjKnQb"
      },
      "execution_count": null,
      "outputs": []
    },
    {
      "cell_type": "markdown",
      "source": [
        "## Revisión de tipos de datos\n",
        "\n",
        "Nos aseguramos de que cada variable tenga el tipo de dato correcto.\n"
      ],
      "metadata": {
        "id": "DL6i0Mh8Koxx"
      }
    },
    {
      "cell_type": "code",
      "source": [
        "df.dtypes\n"
      ],
      "metadata": {
        "id": "lqRkTrF4KpyE"
      },
      "execution_count": null,
      "outputs": []
    },
    {
      "cell_type": "markdown",
      "source": [
        "## Normalización de variables numéricas\n",
        "\n",
        "La normalización lleva los valores a un rango comparable, mejorando el rendimiento de modelos sensibles a escalas.\n"
      ],
      "metadata": {
        "id": "pYllxHfOKrL4"
      }
    },
    {
      "cell_type": "code",
      "source": [
        "columnas_numericas = ['valor_matricula', 'valor_arancel']\n",
        "scaler = MinMaxScaler()\n",
        "df[columnas_numericas] = scaler.fit_transform(df[columnas_numericas])\n",
        "\n",
        "df[columnas_numericas].describe()\n"
      ],
      "metadata": {
        "id": "P_4RFr_lKsMj"
      },
      "execution_count": null,
      "outputs": []
    },
    {
      "cell_type": "markdown",
      "source": [
        "## Resultado del preprocesamiento\n",
        "\n",
        "El dataset ha sido limpiado, codificado y normalizado. Queda disponible como `df` en memoria para continuar el flujo de trabajo en el siguiente notebook.\n"
      ],
      "metadata": {
        "id": "Hf-GV48KKttL"
      }
    }
  ]
}