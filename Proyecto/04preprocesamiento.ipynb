{
  "nbformat": 4,
  "nbformat_minor": 0,
  "metadata": {
    "colab": {
      "provenance": [],
      "mount_file_id": "1hSOZJF1hWDnstUjJ5bie-xPj64c87fvA",
      "authorship_tag": "ABX9TyPMMQzU9f3NrOtvEB1+RkhH",
      "include_colab_link": true
    },
    "kernelspec": {
      "name": "python3",
      "display_name": "Python 3"
    },
    "language_info": {
      "name": "python"
    }
  },
  "cells": [
    {
      "cell_type": "markdown",
      "metadata": {
        "id": "view-in-github",
        "colab_type": "text"
      },
      "source": [
        "<a href=\"https://colab.research.google.com/github/evegat/usm2025-1-dip-ia-edu-v2-evegat/blob/main/Proyecto/04preprocesamiento.ipynb\" target=\"_parent\"><img src=\"https://colab.research.google.com/assets/colab-badge.svg\" alt=\"Open In Colab\"/></a>"
      ]
    },
    {
      "cell_type": "markdown",
      "source": [
        "# Hito 2: Análisis exploratorio del dataset, preprocesamiento y entrenamiento"
      ],
      "metadata": {
        "id": "NM-AncQLFdYJ"
      }
    },
    {
      "cell_type": "markdown",
      "source": [
        "# **Preprocesamiento**\n",
        "En este notebook realizamos la transformación y limpieza del dataset antes del modelado. Se revisan duplicados, valores faltantes, tipos de datos, codificación de variables categóricas y normalización de variables numéricas. El resultado final será un conjunto de datos depurado y listo para su análisis predictivo.\n"
      ],
      "metadata": {
        "id": "Vqs-mmlGKPPp"
      }
    },
    {
      "cell_type": "code",
      "source": [
        "import pandas as pd\n",
        "from sklearn.preprocessing import LabelEncoder, MinMaxScaler\n",
        "\n",
        "# Cargar dataset desde GitHub\n",
        "url = 'https://github.com/evegat/usm2025-1-dip-ia-edu-v2-evegat/raw/main/Proyecto/01database.csv.gz'\n",
        "df = pd.read_csv(url, compression='gzip')\n",
        "\n",
        "print(f\" Dataset cargado: {df.shape[0]:,} filas, {df.shape[1]} columnas\")\n"
      ],
      "metadata": {
        "colab": {
          "base_uri": "https://localhost:8080/"
        },
        "id": "XwIBzLEJKdPS",
        "outputId": "d6b12b78-a4fb-4b94-f07d-235fd4ab4525"
      },
      "execution_count": null,
      "outputs": [
        {
          "output_type": "stream",
          "name": "stdout",
          "text": [
            " Dataset cargado: 1,521,923 filas, 17 columnas\n"
          ]
        }
      ]
    },
    {
      "cell_type": "markdown",
      "source": [
        "## Eliminación de duplicados\n",
        "\n",
        "Revisamos si hay registros repetidos para garantizar que cada fila represente una observación única.\n"
      ],
      "metadata": {
        "id": "CNkgl73mKeey"
      }
    },
    {
      "cell_type": "code",
      "source": [
        "duplicados = df.duplicated().sum()\n",
        "print(f\"Cantidad de filas duplicadas: {duplicados}\")\n",
        "df.drop_duplicates(inplace=True)\n"
      ],
      "metadata": {
        "colab": {
          "base_uri": "https://localhost:8080/"
        },
        "id": "DfBnrasYKgrU",
        "outputId": "3ff9a754-efaa-4d5e-aa61-be3e24d9e9bb"
      },
      "execution_count": null,
      "outputs": [
        {
          "output_type": "stream",
          "name": "stdout",
          "text": [
            "Cantidad de filas duplicadas: 1199510\n"
          ]
        }
      ]
    },
    {
      "cell_type": "markdown",
      "source": [
        "## Revisión y tratamiento de valores faltantes\n",
        "\n",
        "Identificamos columnas con datos faltantes y eliminamos las filas incompletas.\n"
      ],
      "metadata": {
        "id": "sEpHLQTmKiIu"
      }
    },
    {
      "cell_type": "code",
      "source": [
        "print(\"Valores nulos por columna:\")\n",
        "print(df.isnull().sum())\n",
        "\n",
        "print(\"\\nPorcentaje de valores nulos:\")\n",
        "print((df.isnull().sum() * 100 / len(df)).round(2))\n"
      ],
      "metadata": {
        "colab": {
          "base_uri": "https://localhost:8080/"
        },
        "id": "a24U7-LnKjbQ",
        "outputId": "6ef8871f-53ce-4ec0-c606-f9f60a5a9004"
      },
      "execution_count": null,
      "outputs": [
        {
          "output_type": "stream",
          "name": "stdout",
          "text": [
            "Valores nulos por columna:\n",
            "cat_periodo           0\n",
            "gen_alu               0\n",
            "rango_edad            0\n",
            "anio_ing_carr_act     0\n",
            "tipo_inst_1           0\n",
            "modalidad             0\n",
            "jornada               0\n",
            "region_sede           0\n",
            "nivel_carrera_1       0\n",
            "requisito_ingreso     0\n",
            "valor_matricula      20\n",
            "valor_arancel        20\n",
            "acreditada_carr       0\n",
            "acreditada_inst       0\n",
            "forma_ingreso         0\n",
            "AGNO_ORIGEN           0\n",
            "nomb_carrera          0\n",
            "dtype: int64\n",
            "\n",
            "Porcentaje de valores nulos:\n",
            "cat_periodo          0.00\n",
            "gen_alu              0.00\n",
            "rango_edad           0.00\n",
            "anio_ing_carr_act    0.00\n",
            "tipo_inst_1          0.00\n",
            "modalidad            0.00\n",
            "jornada              0.00\n",
            "region_sede          0.00\n",
            "nivel_carrera_1      0.00\n",
            "requisito_ingreso    0.00\n",
            "valor_matricula      0.01\n",
            "valor_arancel        0.01\n",
            "acreditada_carr      0.00\n",
            "acreditada_inst      0.00\n",
            "forma_ingreso        0.00\n",
            "AGNO_ORIGEN          0.00\n",
            "nomb_carrera         0.00\n",
            "dtype: float64\n"
          ]
        }
      ]
    },
    {
      "cell_type": "code",
      "source": [
        "df = df.dropna()\n",
        "print(f\"\\n Filas restantes después de eliminar nulos: {df.shape[0]:,}\")\n"
      ],
      "metadata": {
        "colab": {
          "base_uri": "https://localhost:8080/"
        },
        "id": "DQLJxh7bKk7G",
        "outputId": "7ab07ba0-09cc-44d2-e725-336dcdf3eb79"
      },
      "execution_count": null,
      "outputs": [
        {
          "output_type": "stream",
          "name": "stdout",
          "text": [
            "\n",
            " Filas restantes después de eliminar nulos: 322,393\n"
          ]
        }
      ]
    },
    {
      "cell_type": "markdown",
      "source": [
        "## Codificación de variables categóricas\n",
        "\n",
        "Las variables categóricas deben ser transformadas en valores numéricos para su uso en modelos predictivos.\n"
      ],
      "metadata": {
        "id": "ZX3S9ZYrKmFL"
      }
    },
    {
      "cell_type": "code",
      "source": [
        "# Convertir a texto\n",
        "df['region_sede'] = df['region_sede'].astype(str)\n",
        "\n",
        "# Aplicar codificador\n",
        "le = LabelEncoder()\n",
        "df['region_sede_cod'] = le.fit_transform(df['region_sede'])\n",
        "\n",
        "# Mostrar mapeo\n",
        "print(\"Codificación de regiones:\")\n",
        "print(\"\\n\".join([f\"{i}: {cat}\" for i, cat in enumerate(le.classes_)]))\n"
      ],
      "metadata": {
        "colab": {
          "base_uri": "https://localhost:8080/"
        },
        "id": "pyLo5aXjKnQb",
        "outputId": "979ed2fc-b54a-4112-dfe9-bd6a88ffaac8"
      },
      "execution_count": null,
      "outputs": [
        {
          "output_type": "stream",
          "name": "stdout",
          "text": [
            "Codificación de regiones:\n",
            "0: Antofagasta\n",
            "1: Arica y Parinacota\n",
            "2: Atacama\n",
            "3: Aysén\n",
            "4: Biobío\n",
            "5: Coquimbo\n",
            "6: La Araucanía\n",
            "7: Lib. Gral B. O'Higgins\n",
            "8: Los Lagos\n",
            "9: Los Ríos\n",
            "10: Magallanes\n",
            "11: Maule\n",
            "12: Metropolitana\n",
            "13: Tarapacá\n",
            "14: Valparaíso\n",
            "15: Ñuble\n"
          ]
        },
        {
          "output_type": "stream",
          "name": "stderr",
          "text": [
            "<ipython-input-5-292705525>:2: SettingWithCopyWarning: \n",
            "A value is trying to be set on a copy of a slice from a DataFrame.\n",
            "Try using .loc[row_indexer,col_indexer] = value instead\n",
            "\n",
            "See the caveats in the documentation: https://pandas.pydata.org/pandas-docs/stable/user_guide/indexing.html#returning-a-view-versus-a-copy\n",
            "  df['region_sede'] = df['region_sede'].astype(str)\n"
          ]
        }
      ]
    },
    {
      "cell_type": "markdown",
      "source": [
        "## Revisión de tipos de datos\n",
        "\n",
        "Nos aseguramos de que cada variable tenga el tipo de dato correcto.\n"
      ],
      "metadata": {
        "id": "DL6i0Mh8Koxx"
      }
    },
    {
      "cell_type": "code",
      "source": [
        "df.dtypes\n"
      ],
      "metadata": {
        "colab": {
          "base_uri": "https://localhost:8080/",
          "height": 648
        },
        "id": "lqRkTrF4KpyE",
        "outputId": "de5cf509-9560-427e-c0a6-b658b6fb4955"
      },
      "execution_count": null,
      "outputs": [
        {
          "output_type": "execute_result",
          "data": {
            "text/plain": [
              "cat_periodo            int64\n",
              "gen_alu                int64\n",
              "rango_edad            object\n",
              "anio_ing_carr_act      int64\n",
              "tipo_inst_1           object\n",
              "modalidad             object\n",
              "jornada               object\n",
              "region_sede           object\n",
              "nivel_carrera_1       object\n",
              "requisito_ingreso     object\n",
              "valor_matricula      float64\n",
              "valor_arancel        float64\n",
              "acreditada_carr       object\n",
              "acreditada_inst       object\n",
              "forma_ingreso         object\n",
              "AGNO_ORIGEN            int64\n",
              "nomb_carrera          object\n",
              "region_sede_cod        int64\n",
              "dtype: object"
            ],
            "text/html": [
              "<div>\n",
              "<style scoped>\n",
              "    .dataframe tbody tr th:only-of-type {\n",
              "        vertical-align: middle;\n",
              "    }\n",
              "\n",
              "    .dataframe tbody tr th {\n",
              "        vertical-align: top;\n",
              "    }\n",
              "\n",
              "    .dataframe thead th {\n",
              "        text-align: right;\n",
              "    }\n",
              "</style>\n",
              "<table border=\"1\" class=\"dataframe\">\n",
              "  <thead>\n",
              "    <tr style=\"text-align: right;\">\n",
              "      <th></th>\n",
              "      <th>0</th>\n",
              "    </tr>\n",
              "  </thead>\n",
              "  <tbody>\n",
              "    <tr>\n",
              "      <th>cat_periodo</th>\n",
              "      <td>int64</td>\n",
              "    </tr>\n",
              "    <tr>\n",
              "      <th>gen_alu</th>\n",
              "      <td>int64</td>\n",
              "    </tr>\n",
              "    <tr>\n",
              "      <th>rango_edad</th>\n",
              "      <td>object</td>\n",
              "    </tr>\n",
              "    <tr>\n",
              "      <th>anio_ing_carr_act</th>\n",
              "      <td>int64</td>\n",
              "    </tr>\n",
              "    <tr>\n",
              "      <th>tipo_inst_1</th>\n",
              "      <td>object</td>\n",
              "    </tr>\n",
              "    <tr>\n",
              "      <th>modalidad</th>\n",
              "      <td>object</td>\n",
              "    </tr>\n",
              "    <tr>\n",
              "      <th>jornada</th>\n",
              "      <td>object</td>\n",
              "    </tr>\n",
              "    <tr>\n",
              "      <th>region_sede</th>\n",
              "      <td>object</td>\n",
              "    </tr>\n",
              "    <tr>\n",
              "      <th>nivel_carrera_1</th>\n",
              "      <td>object</td>\n",
              "    </tr>\n",
              "    <tr>\n",
              "      <th>requisito_ingreso</th>\n",
              "      <td>object</td>\n",
              "    </tr>\n",
              "    <tr>\n",
              "      <th>valor_matricula</th>\n",
              "      <td>float64</td>\n",
              "    </tr>\n",
              "    <tr>\n",
              "      <th>valor_arancel</th>\n",
              "      <td>float64</td>\n",
              "    </tr>\n",
              "    <tr>\n",
              "      <th>acreditada_carr</th>\n",
              "      <td>object</td>\n",
              "    </tr>\n",
              "    <tr>\n",
              "      <th>acreditada_inst</th>\n",
              "      <td>object</td>\n",
              "    </tr>\n",
              "    <tr>\n",
              "      <th>forma_ingreso</th>\n",
              "      <td>object</td>\n",
              "    </tr>\n",
              "    <tr>\n",
              "      <th>AGNO_ORIGEN</th>\n",
              "      <td>int64</td>\n",
              "    </tr>\n",
              "    <tr>\n",
              "      <th>nomb_carrera</th>\n",
              "      <td>object</td>\n",
              "    </tr>\n",
              "    <tr>\n",
              "      <th>region_sede_cod</th>\n",
              "      <td>int64</td>\n",
              "    </tr>\n",
              "  </tbody>\n",
              "</table>\n",
              "</div><br><label><b>dtype:</b> object</label>"
            ]
          },
          "metadata": {},
          "execution_count": 6
        }
      ]
    },
    {
      "cell_type": "markdown",
      "source": [
        "## Normalización de variables numéricas\n",
        "\n",
        "La normalización lleva los valores a un rango comparable, mejorando el rendimiento de modelos sensibles a escalas.\n"
      ],
      "metadata": {
        "id": "pYllxHfOKrL4"
      }
    },
    {
      "cell_type": "code",
      "source": [
        "columnas_numericas = ['valor_matricula', 'valor_arancel']\n",
        "scaler = MinMaxScaler()\n",
        "df[columnas_numericas] = scaler.fit_transform(df[columnas_numericas])\n",
        "\n",
        "df[columnas_numericas].describe()\n"
      ],
      "metadata": {
        "colab": {
          "base_uri": "https://localhost:8080/",
          "height": 300
        },
        "id": "P_4RFr_lKsMj",
        "outputId": "234f03e3-dbfc-4b53-fb65-683b06a287d2"
      },
      "execution_count": null,
      "outputs": [
        {
          "output_type": "execute_result",
          "data": {
            "text/plain": [
              "       valor_matricula  valor_arancel\n",
              "count    322393.000000  322393.000000\n",
              "mean          0.221838       0.370006\n",
              "std           0.123250       0.158836\n",
              "min           0.000000       0.000000\n",
              "25%           0.158168       0.256592\n",
              "50%           0.196412       0.357267\n",
              "75%           0.261568       0.470386\n",
              "max           1.000000       1.000000"
            ],
            "text/html": [
              "\n",
              "  <div id=\"df-2dfa1eea-5565-4d42-9006-e6ca8543bd71\" class=\"colab-df-container\">\n",
              "    <div>\n",
              "<style scoped>\n",
              "    .dataframe tbody tr th:only-of-type {\n",
              "        vertical-align: middle;\n",
              "    }\n",
              "\n",
              "    .dataframe tbody tr th {\n",
              "        vertical-align: top;\n",
              "    }\n",
              "\n",
              "    .dataframe thead th {\n",
              "        text-align: right;\n",
              "    }\n",
              "</style>\n",
              "<table border=\"1\" class=\"dataframe\">\n",
              "  <thead>\n",
              "    <tr style=\"text-align: right;\">\n",
              "      <th></th>\n",
              "      <th>valor_matricula</th>\n",
              "      <th>valor_arancel</th>\n",
              "    </tr>\n",
              "  </thead>\n",
              "  <tbody>\n",
              "    <tr>\n",
              "      <th>count</th>\n",
              "      <td>322393.000000</td>\n",
              "      <td>322393.000000</td>\n",
              "    </tr>\n",
              "    <tr>\n",
              "      <th>mean</th>\n",
              "      <td>0.221838</td>\n",
              "      <td>0.370006</td>\n",
              "    </tr>\n",
              "    <tr>\n",
              "      <th>std</th>\n",
              "      <td>0.123250</td>\n",
              "      <td>0.158836</td>\n",
              "    </tr>\n",
              "    <tr>\n",
              "      <th>min</th>\n",
              "      <td>0.000000</td>\n",
              "      <td>0.000000</td>\n",
              "    </tr>\n",
              "    <tr>\n",
              "      <th>25%</th>\n",
              "      <td>0.158168</td>\n",
              "      <td>0.256592</td>\n",
              "    </tr>\n",
              "    <tr>\n",
              "      <th>50%</th>\n",
              "      <td>0.196412</td>\n",
              "      <td>0.357267</td>\n",
              "    </tr>\n",
              "    <tr>\n",
              "      <th>75%</th>\n",
              "      <td>0.261568</td>\n",
              "      <td>0.470386</td>\n",
              "    </tr>\n",
              "    <tr>\n",
              "      <th>max</th>\n",
              "      <td>1.000000</td>\n",
              "      <td>1.000000</td>\n",
              "    </tr>\n",
              "  </tbody>\n",
              "</table>\n",
              "</div>\n",
              "    <div class=\"colab-df-buttons\">\n",
              "\n",
              "  <div class=\"colab-df-container\">\n",
              "    <button class=\"colab-df-convert\" onclick=\"convertToInteractive('df-2dfa1eea-5565-4d42-9006-e6ca8543bd71')\"\n",
              "            title=\"Convert this dataframe to an interactive table.\"\n",
              "            style=\"display:none;\">\n",
              "\n",
              "  <svg xmlns=\"http://www.w3.org/2000/svg\" height=\"24px\" viewBox=\"0 -960 960 960\">\n",
              "    <path d=\"M120-120v-720h720v720H120Zm60-500h600v-160H180v160Zm220 220h160v-160H400v160Zm0 220h160v-160H400v160ZM180-400h160v-160H180v160Zm440 0h160v-160H620v160ZM180-180h160v-160H180v160Zm440 0h160v-160H620v160Z\"/>\n",
              "  </svg>\n",
              "    </button>\n",
              "\n",
              "  <style>\n",
              "    .colab-df-container {\n",
              "      display:flex;\n",
              "      gap: 12px;\n",
              "    }\n",
              "\n",
              "    .colab-df-convert {\n",
              "      background-color: #E8F0FE;\n",
              "      border: none;\n",
              "      border-radius: 50%;\n",
              "      cursor: pointer;\n",
              "      display: none;\n",
              "      fill: #1967D2;\n",
              "      height: 32px;\n",
              "      padding: 0 0 0 0;\n",
              "      width: 32px;\n",
              "    }\n",
              "\n",
              "    .colab-df-convert:hover {\n",
              "      background-color: #E2EBFA;\n",
              "      box-shadow: 0px 1px 2px rgba(60, 64, 67, 0.3), 0px 1px 3px 1px rgba(60, 64, 67, 0.15);\n",
              "      fill: #174EA6;\n",
              "    }\n",
              "\n",
              "    .colab-df-buttons div {\n",
              "      margin-bottom: 4px;\n",
              "    }\n",
              "\n",
              "    [theme=dark] .colab-df-convert {\n",
              "      background-color: #3B4455;\n",
              "      fill: #D2E3FC;\n",
              "    }\n",
              "\n",
              "    [theme=dark] .colab-df-convert:hover {\n",
              "      background-color: #434B5C;\n",
              "      box-shadow: 0px 1px 3px 1px rgba(0, 0, 0, 0.15);\n",
              "      filter: drop-shadow(0px 1px 2px rgba(0, 0, 0, 0.3));\n",
              "      fill: #FFFFFF;\n",
              "    }\n",
              "  </style>\n",
              "\n",
              "    <script>\n",
              "      const buttonEl =\n",
              "        document.querySelector('#df-2dfa1eea-5565-4d42-9006-e6ca8543bd71 button.colab-df-convert');\n",
              "      buttonEl.style.display =\n",
              "        google.colab.kernel.accessAllowed ? 'block' : 'none';\n",
              "\n",
              "      async function convertToInteractive(key) {\n",
              "        const element = document.querySelector('#df-2dfa1eea-5565-4d42-9006-e6ca8543bd71');\n",
              "        const dataTable =\n",
              "          await google.colab.kernel.invokeFunction('convertToInteractive',\n",
              "                                                    [key], {});\n",
              "        if (!dataTable) return;\n",
              "\n",
              "        const docLinkHtml = 'Like what you see? Visit the ' +\n",
              "          '<a target=\"_blank\" href=https://colab.research.google.com/notebooks/data_table.ipynb>data table notebook</a>'\n",
              "          + ' to learn more about interactive tables.';\n",
              "        element.innerHTML = '';\n",
              "        dataTable['output_type'] = 'display_data';\n",
              "        await google.colab.output.renderOutput(dataTable, element);\n",
              "        const docLink = document.createElement('div');\n",
              "        docLink.innerHTML = docLinkHtml;\n",
              "        element.appendChild(docLink);\n",
              "      }\n",
              "    </script>\n",
              "  </div>\n",
              "\n",
              "\n",
              "    <div id=\"df-a944a7c6-7233-4b4f-9459-a94f0df9fa75\">\n",
              "      <button class=\"colab-df-quickchart\" onclick=\"quickchart('df-a944a7c6-7233-4b4f-9459-a94f0df9fa75')\"\n",
              "                title=\"Suggest charts\"\n",
              "                style=\"display:none;\">\n",
              "\n",
              "<svg xmlns=\"http://www.w3.org/2000/svg\" height=\"24px\"viewBox=\"0 0 24 24\"\n",
              "     width=\"24px\">\n",
              "    <g>\n",
              "        <path d=\"M19 3H5c-1.1 0-2 .9-2 2v14c0 1.1.9 2 2 2h14c1.1 0 2-.9 2-2V5c0-1.1-.9-2-2-2zM9 17H7v-7h2v7zm4 0h-2V7h2v10zm4 0h-2v-4h2v4z\"/>\n",
              "    </g>\n",
              "</svg>\n",
              "      </button>\n",
              "\n",
              "<style>\n",
              "  .colab-df-quickchart {\n",
              "      --bg-color: #E8F0FE;\n",
              "      --fill-color: #1967D2;\n",
              "      --hover-bg-color: #E2EBFA;\n",
              "      --hover-fill-color: #174EA6;\n",
              "      --disabled-fill-color: #AAA;\n",
              "      --disabled-bg-color: #DDD;\n",
              "  }\n",
              "\n",
              "  [theme=dark] .colab-df-quickchart {\n",
              "      --bg-color: #3B4455;\n",
              "      --fill-color: #D2E3FC;\n",
              "      --hover-bg-color: #434B5C;\n",
              "      --hover-fill-color: #FFFFFF;\n",
              "      --disabled-bg-color: #3B4455;\n",
              "      --disabled-fill-color: #666;\n",
              "  }\n",
              "\n",
              "  .colab-df-quickchart {\n",
              "    background-color: var(--bg-color);\n",
              "    border: none;\n",
              "    border-radius: 50%;\n",
              "    cursor: pointer;\n",
              "    display: none;\n",
              "    fill: var(--fill-color);\n",
              "    height: 32px;\n",
              "    padding: 0;\n",
              "    width: 32px;\n",
              "  }\n",
              "\n",
              "  .colab-df-quickchart:hover {\n",
              "    background-color: var(--hover-bg-color);\n",
              "    box-shadow: 0 1px 2px rgba(60, 64, 67, 0.3), 0 1px 3px 1px rgba(60, 64, 67, 0.15);\n",
              "    fill: var(--button-hover-fill-color);\n",
              "  }\n",
              "\n",
              "  .colab-df-quickchart-complete:disabled,\n",
              "  .colab-df-quickchart-complete:disabled:hover {\n",
              "    background-color: var(--disabled-bg-color);\n",
              "    fill: var(--disabled-fill-color);\n",
              "    box-shadow: none;\n",
              "  }\n",
              "\n",
              "  .colab-df-spinner {\n",
              "    border: 2px solid var(--fill-color);\n",
              "    border-color: transparent;\n",
              "    border-bottom-color: var(--fill-color);\n",
              "    animation:\n",
              "      spin 1s steps(1) infinite;\n",
              "  }\n",
              "\n",
              "  @keyframes spin {\n",
              "    0% {\n",
              "      border-color: transparent;\n",
              "      border-bottom-color: var(--fill-color);\n",
              "      border-left-color: var(--fill-color);\n",
              "    }\n",
              "    20% {\n",
              "      border-color: transparent;\n",
              "      border-left-color: var(--fill-color);\n",
              "      border-top-color: var(--fill-color);\n",
              "    }\n",
              "    30% {\n",
              "      border-color: transparent;\n",
              "      border-left-color: var(--fill-color);\n",
              "      border-top-color: var(--fill-color);\n",
              "      border-right-color: var(--fill-color);\n",
              "    }\n",
              "    40% {\n",
              "      border-color: transparent;\n",
              "      border-right-color: var(--fill-color);\n",
              "      border-top-color: var(--fill-color);\n",
              "    }\n",
              "    60% {\n",
              "      border-color: transparent;\n",
              "      border-right-color: var(--fill-color);\n",
              "    }\n",
              "    80% {\n",
              "      border-color: transparent;\n",
              "      border-right-color: var(--fill-color);\n",
              "      border-bottom-color: var(--fill-color);\n",
              "    }\n",
              "    90% {\n",
              "      border-color: transparent;\n",
              "      border-bottom-color: var(--fill-color);\n",
              "    }\n",
              "  }\n",
              "</style>\n",
              "\n",
              "      <script>\n",
              "        async function quickchart(key) {\n",
              "          const quickchartButtonEl =\n",
              "            document.querySelector('#' + key + ' button');\n",
              "          quickchartButtonEl.disabled = true;  // To prevent multiple clicks.\n",
              "          quickchartButtonEl.classList.add('colab-df-spinner');\n",
              "          try {\n",
              "            const charts = await google.colab.kernel.invokeFunction(\n",
              "                'suggestCharts', [key], {});\n",
              "          } catch (error) {\n",
              "            console.error('Error during call to suggestCharts:', error);\n",
              "          }\n",
              "          quickchartButtonEl.classList.remove('colab-df-spinner');\n",
              "          quickchartButtonEl.classList.add('colab-df-quickchart-complete');\n",
              "        }\n",
              "        (() => {\n",
              "          let quickchartButtonEl =\n",
              "            document.querySelector('#df-a944a7c6-7233-4b4f-9459-a94f0df9fa75 button');\n",
              "          quickchartButtonEl.style.display =\n",
              "            google.colab.kernel.accessAllowed ? 'block' : 'none';\n",
              "        })();\n",
              "      </script>\n",
              "    </div>\n",
              "\n",
              "    </div>\n",
              "  </div>\n"
            ],
            "application/vnd.google.colaboratory.intrinsic+json": {
              "type": "dataframe",
              "summary": "{\n  \"name\": \"df[columnas_numericas]\",\n  \"rows\": 8,\n  \"fields\": [\n    {\n      \"column\": \"valor_matricula\",\n      \"properties\": {\n        \"dtype\": \"number\",\n        \"std\": 113983.03919658971,\n        \"min\": 0.0,\n        \"max\": 322393.0,\n        \"num_unique_values\": 8,\n        \"samples\": [\n          0.2218377610857746,\n          0.19641170915958453,\n          322393.0\n        ],\n        \"semantic_type\": \"\",\n        \"description\": \"\"\n      }\n    },\n    {\n      \"column\": \"valor_arancel\",\n      \"properties\": {\n        \"dtype\": \"number\",\n        \"std\": 113983.00627306262,\n        \"min\": 0.0,\n        \"max\": 322393.0,\n        \"num_unique_values\": 8,\n        \"samples\": [\n          0.3700059702872124,\n          0.3572674226784687,\n          322393.0\n        ],\n        \"semantic_type\": \"\",\n        \"description\": \"\"\n      }\n    }\n  ]\n}"
            }
          },
          "metadata": {},
          "execution_count": 7
        }
      ]
    },
    {
      "cell_type": "markdown",
      "source": [
        "## Resultado del preprocesamiento\n",
        "\n",
        "El dataset ha sido limpiado, codificado y normalizado. Queda disponible como `df` en memoria para continuar el flujo de trabajo en el siguiente notebook.\n"
      ],
      "metadata": {
        "id": "Hf-GV48KKttL"
      }
    }
  ]
}